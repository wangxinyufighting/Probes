{
 "cells": [
  {
   "cell_type": "code",
   "execution_count": 1,
   "metadata": {},
   "outputs": [],
   "source": [
    "import json\n",
    "from pandas import Series,DataFrame\n",
    "import pandas as pd\n",
    "\n",
    "model_names = ['Mistral-7B-Instruct-v0.2', 'vicuna-7b', 'vicuna-13b', 'vicuna-33b', 'llama2-7b-chat-hf']\n",
    "data_name = 'gsm8k'\n",
    "data_types = ['train', 'test']\n",
    "\n",
    "for model_name in model_names:\n",
    "    for data_type in data_types:\n",
    "\n",
    "        d = {'statement':[], 'label':[]}\n",
    "        path = f'/home/wxy/project/hallucination_predict_by_prompt/data/datasets/gsm8k/0shot/output/0shot/{data_name}_{model_name}_1_sample_0shot_{data_type}.json'\n",
    "        output_path = f'./{data_name}_{model_name}_1_sample_0shot_{data_type}_true_false.csv'\n",
    "        with open(path, 'r') as f:\n",
    "            for line in f.readlines():\n",
    "                data = json.loads(line.strip())\n",
    "                prompt = (data['prompt']+data['predict']).replace('\\n', '\\\\n')\n",
    "                d['statement'].append(prompt)\n",
    "                d['label'].append(data['label'])\n",
    "\n",
    "        df = DataFrame(d)\n",
    "        df.to_csv(output_path, index=False)"
   ]
  }
 ],
 "metadata": {
  "kernelspec": {
   "display_name": "wxy_llm_sample",
   "language": "python",
   "name": "python3"
  },
  "language_info": {
   "codemirror_mode": {
    "name": "ipython",
    "version": 3
   },
   "file_extension": ".py",
   "mimetype": "text/x-python",
   "name": "python",
   "nbconvert_exporter": "python",
   "pygments_lexer": "ipython3",
   "version": "3.9.19"
  }
 },
 "nbformat": 4,
 "nbformat_minor": 2
}
